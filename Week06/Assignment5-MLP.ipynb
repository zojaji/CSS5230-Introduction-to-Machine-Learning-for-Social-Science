{
 "cells": [
  {
   "attachments": {},
   "cell_type": "markdown",
   "id": "17fa2f04-4e1a-4dda-a561-0cbb962837fc",
   "metadata": {},
   "source": [
    "# Assignment 5: Multilayer Perceptron (MLP) Model — Public Health\n",
    "<span style=\"color: red; font-weight: bold;\">Disclaimer: The dataset used in this notebook is synthetic and has been created solely for educational purposes within a machine learning course in social science. It is not intended for use in drawing any medical, political, or other real-world conclusions.</span>\n",
    "\n",
    "**Course:** Introduction to Machine Learning for Social Science<br>\n",
    "**Course Code:** CSS5230<br>\n",
    "**Teacher:** [Sahba Zojaji](https://myweb.cuhk.edu.cn/sahbazojaji/Home/Index)<br>\n",
    "**University:** The Chinese University of Hong Kong, Shenzhen\n",
    "\n",
    "## Summary\n",
    "\n",
    "This notebook provides a demonstration of applying the <u>Multilayer Perceptron (MLP)</u> model on a **synthetic** public health dataset. The dataset includes the following columns: \n",
    "\n",
    "1. **ID**: A unique identifier for each individual.\n",
    "2. **Age**: The age of the individual.\n",
    "3. **Gender**: The gender of the individual (Male/Female).\n",
    "4. **BMI**: Body Mass Index, a measure of body fat based on height and weight.\n",
    "5. **Smoking Status**: The smoking status of the individual (Never, Former, Current).\n",
    "6. **Exercise Frequency**: The frequency of exercise per week.\n",
    "7. **Cholesterol Level**: The cholesterol level of the individual.\n",
    "8. **Blood Pressure**: The blood pressure of the individual.\n",
    "9. **Health Risk Score**: A calculated score representing the overall health risk of the individual.\n",
    "10. **Health Risk Category**: The health risk category of the individual (Low, Medium, High).\n",
    "\n",
    "### Goal:\n",
    "\n",
    "The goal is to predict health risk categories (for classification) based on features such as age, gender, BMI, smoking status, exercise frequency, cholesterol level, and blood pressure."
   ]
  },
  {
   "cell_type": "markdown",
   "id": "fe23d764-2826-4a1b-b390-c952778c1bab",
   "metadata": {},
   "source": [
    "## Loading the Dataset\n",
    "\n",
    "We will load the public health dataset that contains features such as age, gender, BMI, smoking status, exercise frequency, cholesterol level, blood pressure, and <u>health risk category (for classification)</u>."
   ]
  },
  {
   "cell_type": "code",
   "execution_count": 3,
   "id": "54bda754-a4ff-4d0b-8a16-fb8bcc59e410",
   "metadata": {},
   "outputs": [
    {
     "data": {
      "text/html": [
       "<div>\n",
       "<style scoped>\n",
       "    .dataframe tbody tr th:only-of-type {\n",
       "        vertical-align: middle;\n",
       "    }\n",
       "\n",
       "    .dataframe tbody tr th {\n",
       "        vertical-align: top;\n",
       "    }\n",
       "\n",
       "    .dataframe thead th {\n",
       "        text-align: right;\n",
       "    }\n",
       "</style>\n",
       "<table border=\"1\" class=\"dataframe\">\n",
       "  <thead>\n",
       "    <tr style=\"text-align: right;\">\n",
       "      <th></th>\n",
       "      <th>ID</th>\n",
       "      <th>Age</th>\n",
       "      <th>Gender</th>\n",
       "      <th>BMI</th>\n",
       "      <th>Smoking Status</th>\n",
       "      <th>Exercise Frequency</th>\n",
       "      <th>Cholesterol Level</th>\n",
       "      <th>Blood Pressure</th>\n",
       "      <th>Health Risk Score</th>\n",
       "      <th>Health Risk Category</th>\n",
       "    </tr>\n",
       "  </thead>\n",
       "  <tbody>\n",
       "    <tr>\n",
       "      <th>0</th>\n",
       "      <td>1</td>\n",
       "      <td>62</td>\n",
       "      <td>Female</td>\n",
       "      <td>22.812775</td>\n",
       "      <td>Former</td>\n",
       "      <td>4</td>\n",
       "      <td>119.690569</td>\n",
       "      <td>104.027015</td>\n",
       "      <td>74.966827</td>\n",
       "      <td>Medium</td>\n",
       "    </tr>\n",
       "    <tr>\n",
       "      <th>1</th>\n",
       "      <td>2</td>\n",
       "      <td>65</td>\n",
       "      <td>Female</td>\n",
       "      <td>18.902457</td>\n",
       "      <td>Former</td>\n",
       "      <td>0</td>\n",
       "      <td>151.031562</td>\n",
       "      <td>106.691143</td>\n",
       "      <td>78.305866</td>\n",
       "      <td>Medium</td>\n",
       "    </tr>\n",
       "    <tr>\n",
       "      <th>2</th>\n",
       "      <td>3</td>\n",
       "      <td>82</td>\n",
       "      <td>Female</td>\n",
       "      <td>31.286677</td>\n",
       "      <td>Former</td>\n",
       "      <td>0</td>\n",
       "      <td>167.483621</td>\n",
       "      <td>87.811173</td>\n",
       "      <td>95.605578</td>\n",
       "      <td>Medium</td>\n",
       "    </tr>\n",
       "    <tr>\n",
       "      <th>3</th>\n",
       "      <td>4</td>\n",
       "      <td>85</td>\n",
       "      <td>Male</td>\n",
       "      <td>23.427027</td>\n",
       "      <td>Former</td>\n",
       "      <td>2</td>\n",
       "      <td>124.839669</td>\n",
       "      <td>91.354148</td>\n",
       "      <td>80.921337</td>\n",
       "      <td>Medium</td>\n",
       "    </tr>\n",
       "    <tr>\n",
       "      <th>4</th>\n",
       "      <td>5</td>\n",
       "      <td>85</td>\n",
       "      <td>Female</td>\n",
       "      <td>25.755887</td>\n",
       "      <td>Former</td>\n",
       "      <td>6</td>\n",
       "      <td>192.860153</td>\n",
       "      <td>121.826556</td>\n",
       "      <td>95.150886</td>\n",
       "      <td>Medium</td>\n",
       "    </tr>\n",
       "  </tbody>\n",
       "</table>\n",
       "</div>"
      ],
      "text/plain": [
       "   ID  Age  Gender        BMI Smoking Status  Exercise Frequency  \\\n",
       "0   1   62  Female  22.812775         Former                   4   \n",
       "1   2   65  Female  18.902457         Former                   0   \n",
       "2   3   82  Female  31.286677         Former                   0   \n",
       "3   4   85    Male  23.427027         Former                   2   \n",
       "4   5   85  Female  25.755887         Former                   6   \n",
       "\n",
       "   Cholesterol Level  Blood Pressure  Health Risk Score Health Risk Category  \n",
       "0         119.690569      104.027015          74.966827               Medium  \n",
       "1         151.031562      106.691143          78.305866               Medium  \n",
       "2         167.483621       87.811173          95.605578               Medium  \n",
       "3         124.839669       91.354148          80.921337               Medium  \n",
       "4         192.860153      121.826556          95.150886               Medium  "
      ]
     },
     "execution_count": 3,
     "metadata": {},
     "output_type": "execute_result"
    }
   ],
   "source": [
    "# Import necessary libraries\n",
    "import pandas as pd\n",
    "import matplotlib.pyplot as plt\n",
    "import seaborn as sns\n",
    "import numpy as np\n",
    "from sklearn.model_selection import train_test_split\n",
    "from sklearn.preprocessing import LabelEncoder, MinMaxScaler\n",
    "from sklearn.metrics import accuracy_score, classification_report, confusion_matrix\n",
    "from sklearn.neural_network import MLPClassifier\n",
    "\n",
    "# Load the dataset\n",
    "data = pd.read_csv('public_health_dataset.csv')\n",
    "\n",
    "# Display the first few rows of the dataset\n",
    "data.head()"
   ]
  },
  {
   "cell_type": "markdown",
   "id": "ee0959e2-aa06-43e7-a1d3-8a43aac4f84a",
   "metadata": {},
   "source": [
    "## Data Preprocessing  \n",
    "Before building the models, we need to preprocess the data. Here's what we'll do:  \n",
    "\n",
    "1. **Drop Unnecessary Columns**: Remove irrelevant columns to streamline the dataset.\n",
    "2. **Encode Categorical Variables**: Transform categorical data (e.g., Gender) into numerical form.\n",
    "3. **Split Data**: Separate features from target variables for classification and regression tasks.\n",
    "4. **Divide into Training and Testing Sets**: Allocate 80% of data for training, 20% for testing.\n",
    "5. **Normalize Features**: Scale features to a range of [0, 1] for consistent model performance."
   ]
  },
  {
   "cell_type": "code",
   "execution_count": 4,
   "id": "420cd77a-ebe6-49fa-93cc-05b125efc827",
   "metadata": {},
   "outputs": [],
   "source": [
    "# Drop the ID column as it is not useful for modeling\n",
    "data = data.drop(columns=['ID'])\n",
    "\n",
    "# Encode categorical variables (e.g., Gender, Smoking Status) into numerical values\n",
    "label_encoder = LabelEncoder()\n",
    "data['Gender'] = label_encoder.fit_transform(data['Gender'])\n",
    "data['Smoking Status'] = label_encoder.fit_transform(data['Smoking Status'])\n",
    "\n",
    "# Separate features (X) and target variables (y_class for classification)\n",
    "X = data.drop(columns=['Health Risk Category', 'Health Risk Score'])  # Features\n",
    "y_class = data['Health Risk Category']  # Target for classification\n",
    "\n",
    "# Split the data into training and testing sets (80% train, 20% test)\n",
    "X_train, X_test, y_train_class, y_test_class = train_test_split(\n",
    "    X, y_class, test_size=0.2, random_state=42\n",
    ")\n",
    "\n",
    "# Normalize the features using MinMaxScaler to bring all values into the range [0, 1]\n",
    "scaler = MinMaxScaler()\n",
    "X_train_scaled = scaler.fit_transform(X_train)\n",
    "X_test_scaled = scaler.transform(X_test)"
   ]
  },
  {
   "cell_type": "markdown",
   "id": "2b78a1f9-926f-46b2-a102-0528da95a550",
   "metadata": {},
   "source": [
    "## **<span style=\"color:green\">Multilayer Perceptron (MLP) Model</span>**\n",
    "We’ll use MLPClassifier to predict the Health Risk Category.\n",
    "\n",
    "1. **Model Training**: Initialize and train the MLP model using scaled training data.\n",
    "2. **Prediction**: Use the trained model to predict class labels on the scaled test data.\n",
    "3. **Performance Evaluation**: Assess model accuracy and generate a detailed classification report."
   ]
  },
  {
   "cell_type": "code",
   "execution_count": 6,
   "id": "4b611cb8-b9e1-476d-b67d-29b944394157",
   "metadata": {},
   "outputs": [
    {
     "name": "stdout",
     "output_type": "stream",
     "text": [
      "MLP Accuracy: 0.98\n",
      "Classification Report for MLP:\n",
      "              precision    recall  f1-score   support\n",
      "\n",
      "        High       1.00      0.95      0.97        76\n",
      "      Medium       0.97      1.00      0.98       124\n",
      "\n",
      "    accuracy                           0.98       200\n",
      "   macro avg       0.98      0.97      0.98       200\n",
      "weighted avg       0.98      0.98      0.98       200\n",
      "\n"
     ]
    }
   ],
   "source": [
    "# --- Multilayer Perceptron (MLP) Classifier ---\n",
    "mlp = MLPClassifier(hidden_layer_sizes=(100, 50), max_iter=1000, random_state=42, activation='relu', solver='adam')\n",
    "mlp.fit(X_train_scaled, y_train_class)  # Train the model\n",
    "y_pred_class_mlp = mlp.predict(X_test_scaled)  # Predict on test data\n",
    "\n",
    "# Evaluate MLP performance\n",
    "accuracy_mlp = accuracy_score(y_test_class, y_pred_class_mlp)\n",
    "print(f\"MLP Accuracy: {accuracy_mlp}\")\n",
    "\n",
    "# Classification Report for MLP\n",
    "print(\"Classification Report for MLP:\")\n",
    "print(classification_report(y_test_class, y_pred_class_mlp))"
   ]
  },
  {
   "cell_type": "markdown",
   "id": "d4d1c85b-91ee-4119-ab30-beb1ba192695",
   "metadata": {},
   "source": [
    "### Confusion Matrix for MLP\n",
    "\n",
    "Create a heatmap to visualize the confusion matrix for the MLP model, comparing actual vs. predicted health risk categories."
   ]
  },
  {
   "cell_type": "code",
   "execution_count": 15,
   "id": "528c2459-8338-4085-bfde-8076cd64f6db",
   "metadata": {},
   "outputs": [
    {
     "data": {
      "image/png": "[encoded data removed]",
      "text/plain": [
       "<Figure size 640x480 with 2 Axes>"
      ]
     },
     "metadata": {},
     "output_type": "display_data"
    }
   ],
   "source": [
    "# MLP: Confusion Matrix\n",
    "sns.heatmap(confusion_matrix(y_test_class, y_pred_class_mlp), annot=True, cmap=\"YlGnBu\", fmt='d')\n",
    "plt.xlabel(\"Predicted Health Risk Category\")\n",
    "plt.ylabel(\"Actual Health Risk Category\")\n",
    "plt.title(\"MLP Classifier Confusion Matrix\")\n",
    "plt.show()  "
   ]
  },
  {
   "cell_type": "markdown",
   "id": "0abe05af-7a95-4faf-afef-3acda641caae",
   "metadata": {},
   "source": [
    "### Learning Curve for MLP\n",
    "Plot the loss curve to visualize how the loss decreases over iterations during the training of the MLP model. This helps in understanding the convergence behavior of the model."
   ]
  },
  {
   "cell_type": "code",
   "execution_count": 19,
   "id": "aa96c460-a833-4aaa-bdeb-37a2df4fa2f9",
   "metadata": {},
   "outputs": [
    {
     "data": {
      "image/png": "[encoded data removed]",
      "text/plain": [
       "<Figure size 640x480 with 1 Axes>"
      ]
     },
     "metadata": {},
     "output_type": "display_data"
    }
   ],
   "source": [
    "# --- Visualize Learning Curves ---\n",
    "plt.plot(mlp.loss_curve_)\n",
    "plt.title(\"MLP Loss Curve\")\n",
    "plt.xlabel(\"Iteration\")\n",
    "plt.ylabel(\"Loss\")\n",
    "\n",
    "plt.tight_layout()\n",
    "plt.show()"
   ]
  },
  {
   "cell_type": "code",
   "execution_count": 21,
   "id": "ffb01046-b0c4-4f3b-9371-228d71da7476",
   "metadata": {},
   "outputs": [
    {
     "name": "stdout",
     "output_type": "stream",
     "text": [
      "\n",
      "--- MLP Architecture ---\n",
      "Number of layers: 3\n",
      "Number of neurons in each layer: [100, 50, 1]\n",
      "Activation function: relu\n",
      "Solver: adam\n",
      "\n",
      "--- Impact of Parameters ---\n",
      "Hidden Layer Sizes: (100, 50) - This means the MLP has two hidden layers with 100 and 50 neurons respectively.\n",
      "Activation Function: 'relu' - This is a common activation function that helps introduce non-linearity.\n",
      "Solver: 'adam' - This is an optimization algorithm that adapts the learning rate for each parameter.\n",
      "\n",
      "--- Loss Curve Explanation ---\n",
      "The loss curve shows how the loss decreases over iterations. A smooth and steadily decreasing curve indicates good convergence.\n"
     ]
    }
   ],
   "source": [
    "# --- Additional Educational Elements ---\n",
    "# Explaining the MLP architecture\n",
    "print(\"\\n--- MLP Architecture ---\")\n",
    "print(f\"Number of layers: {len(mlp.coefs_)}\")\n",
    "print(f\"Number of neurons in each layer: {[layer.shape[1] for layer in mlp.coefs_]}\")\n",
    "print(f\"Activation function: {mlp.activation}\")\n",
    "print(f\"Solver: {mlp.solver}\")\n",
    "\n",
    "# Explaining the impact of parameters\n",
    "print(\"\\n--- Impact of Parameters ---\")\n",
    "print(\"Hidden Layer Sizes: (100, 50) - This means the MLP has two hidden layers with 100 and 50 neurons respectively.\")\n",
    "print(\"Activation Function: 'relu' - This is a common activation function that helps introduce non-linearity.\")\n",
    "print(\"Solver: 'adam' - This is an optimization algorithm that adapts the learning rate for each parameter.\")\n",
    "\n",
    "# Explaining the loss curve\n",
    "print(\"\\n--- Loss Curve Explanation ---\")\n",
    "print(\"The loss curve shows how the loss decreases over iterations. A smooth and steadily decreasing curve indicates good convergence.\")"
   ]
  },
  {
   "cell_type": "markdown",
   "id": "551ca504-2b03-4f74-b643-daee604b3e32",
   "metadata": {},
   "source": [
    "# <span style=\"color:red\">MLP Hyperparameter Tuning Assignment (10 points)</span>\n",
    "\n",
    "## Objective\n",
    "Explore the impact of various hyperparameters on the performance of the MLP model.\n",
    "\n",
    "## Instructions:\n",
    "1. **Hidden Layer Sizes**: Experiment with different architectures for the hidden layers (e.g., [(50,), (100, 50), (200, 100, 50)]).\n",
    "2. **Activation Function**: Try different activation functions (e.g., ['relu', 'tanh', 'logistic']).\n",
    "3. **Learning Rate:** Adjust the learning rate for weight updates.\n",
    "\n",
    "For each combination of hyperparameters:\n",
    "- Train the MLP model.\n",
    "- Evaluate the model using the following metrics:\n",
    "  - Accuracy\n",
    "  - Precision\n",
    "  - Recall\n",
    "  - F1 Score\n",
    "- Visualize the loss curve to analyze the training behavior.\n",
    "- Provide the outputs of evaluation metrics, the confusion matrix, and the loss curve for different combinations of hyperparameters in your report.\n",
    "\n",
    "**At least 2 combinations must be included in your final report.**"
   ]
  }
 ],
 "metadata": {
  "kernelspec": {
   "display_name": "Python 3 (ipykernel)",
   "language": "python",
   "name": "python3"
  },
  "language_info": {
   "codemirror_mode": {
    "name": "ipython",
    "version": 3
   },
   "file_extension": ".py",
   "mimetype": "text/x-python",
   "name": "python",
   "nbconvert_exporter": "python",
   "pygments_lexer": "ipython3",
   "version": "3.13.1"
  }
 },
 "nbformat": 4,
 "nbformat_minor": 5
}
