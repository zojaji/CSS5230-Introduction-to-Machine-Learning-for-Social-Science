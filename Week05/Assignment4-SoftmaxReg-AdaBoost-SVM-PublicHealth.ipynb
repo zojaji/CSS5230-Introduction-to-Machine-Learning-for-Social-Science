{
 "cells": [
  {
   "cell_type": "markdown",
   "id": "e9260822-53a8-4d14-836c-737cdb7d53e7",
   "metadata": {},
   "source": [
    "# Assignment 4: Softmax Regression, AdaBoost, & SVM Models — Public Health\n",
    "<span style=\"color: red; font-weight: bold;\">Disclaimer: The dataset used in this notebook is synthetic and has been created solely for educational purposes within a machine learning course in social science. It is not intended for use in drawing any medical, political, or other real-world conclusions.</span>\n",
    "\n",
    "**Course:** Introduction to Machine Learning for Social Science<br>\n",
    "**Course Code:** CSS5230<br>\n",
    "**Teacher:** [Sahba Zojaji](https://myweb.cuhk.edu.cn/sahbazojaji/Home/Index)<br>\n",
    "**University:** The Chinese University of Hong Kong, Shenzhen\n",
    "\n",
    "## Summary\n",
    "\n",
    "This notebook provides a comprehensive demonstration of applying the <u>Softmax Regression</u>, <u>AdaBoost</u>, and <u>SVM</u> on a **synthetic** public health dataset. The dataset includes the following columns: \n",
    "\n",
    "1. **ID**: A unique identifier for each individual.\n",
    "2. **Age**: The age of the individual.\n",
    "3. **Gender**: The gender of the individual (Male/Female).\n",
    "4. **BMI**: Body Mass Index, a measure of body fat based on height and weight.\n",
    "5. **Smoking Status**: The smoking status of the individual (Never, Former, Current).\n",
    "6. **Exercise Frequency**: The frequency of exercise per week.\n",
    "7. **Cholesterol Level**: The cholesterol level of the individual.\n",
    "8. **Blood Pressure**: The blood pressure of the individual.\n",
    "9. **Health Risk Score**: A calculated score representing the overall health risk of the individual.\n",
    "10. **Health Risk Category**: The health risk category of the individual (Low, Medium, High).\n",
    "\n",
    "### Goal:\n",
    "\n",
    "The goal is to predict health risk categories (for classification) based on features such as age, gender, BMI, smoking status, exercise frequency, cholesterol level, and blood pressure."
   ]
  },
  {
   "cell_type": "markdown",
   "id": "7435a10d-785b-40b9-8a37-e105352daf2a",
   "metadata": {},
   "source": [
    "## Loading the Dataset\n",
    "\n",
    "We will load the public health dataset that contains features such as age, gender, BMI, smoking status, exercise frequency, cholesterol level, blood pressure, <u>health risk score (for regression)</u>, and <u>health risk category (for classification)</u>."
   ]
  },
  {
   "cell_type": "code",
   "execution_count": 12,
   "id": "1ff8bbad-3bbe-4514-b71d-d7f38fef6a74",
   "metadata": {},
   "outputs": [
    {
     "data": {
      "text/html": [
       "<div>\n",
       "<style scoped>\n",
       "    .dataframe tbody tr th:only-of-type {\n",
       "        vertical-align: middle;\n",
       "    }\n",
       "\n",
       "    .dataframe tbody tr th {\n",
       "        vertical-align: top;\n",
       "    }\n",
       "\n",
       "    .dataframe thead th {\n",
       "        text-align: right;\n",
       "    }\n",
       "</style>\n",
       "<table border=\"1\" class=\"dataframe\">\n",
       "  <thead>\n",
       "    <tr style=\"text-align: right;\">\n",
       "      <th></th>\n",
       "      <th>ID</th>\n",
       "      <th>Age</th>\n",
       "      <th>Gender</th>\n",
       "      <th>BMI</th>\n",
       "      <th>Smoking Status</th>\n",
       "      <th>Exercise Frequency</th>\n",
       "      <th>Cholesterol Level</th>\n",
       "      <th>Blood Pressure</th>\n",
       "      <th>Health Risk Score</th>\n",
       "      <th>Health Risk Category</th>\n",
       "    </tr>\n",
       "  </thead>\n",
       "  <tbody>\n",
       "    <tr>\n",
       "      <th>0</th>\n",
       "      <td>1</td>\n",
       "      <td>62</td>\n",
       "      <td>Female</td>\n",
       "      <td>22.812775</td>\n",
       "      <td>Former</td>\n",
       "      <td>4</td>\n",
       "      <td>119.690569</td>\n",
       "      <td>104.027015</td>\n",
       "      <td>74.966827</td>\n",
       "      <td>Medium</td>\n",
       "    </tr>\n",
       "    <tr>\n",
       "      <th>1</th>\n",
       "      <td>2</td>\n",
       "      <td>65</td>\n",
       "      <td>Female</td>\n",
       "      <td>18.902457</td>\n",
       "      <td>Former</td>\n",
       "      <td>0</td>\n",
       "      <td>151.031562</td>\n",
       "      <td>106.691143</td>\n",
       "      <td>78.305866</td>\n",
       "      <td>Medium</td>\n",
       "    </tr>\n",
       "    <tr>\n",
       "      <th>2</th>\n",
       "      <td>3</td>\n",
       "      <td>82</td>\n",
       "      <td>Female</td>\n",
       "      <td>31.286677</td>\n",
       "      <td>Former</td>\n",
       "      <td>0</td>\n",
       "      <td>167.483621</td>\n",
       "      <td>87.811173</td>\n",
       "      <td>95.605578</td>\n",
       "      <td>Medium</td>\n",
       "    </tr>\n",
       "    <tr>\n",
       "      <th>3</th>\n",
       "      <td>4</td>\n",
       "      <td>85</td>\n",
       "      <td>Male</td>\n",
       "      <td>23.427027</td>\n",
       "      <td>Former</td>\n",
       "      <td>2</td>\n",
       "      <td>124.839669</td>\n",
       "      <td>91.354148</td>\n",
       "      <td>80.921337</td>\n",
       "      <td>Medium</td>\n",
       "    </tr>\n",
       "    <tr>\n",
       "      <th>4</th>\n",
       "      <td>5</td>\n",
       "      <td>85</td>\n",
       "      <td>Female</td>\n",
       "      <td>25.755887</td>\n",
       "      <td>Former</td>\n",
       "      <td>6</td>\n",
       "      <td>192.860153</td>\n",
       "      <td>121.826556</td>\n",
       "      <td>95.150886</td>\n",
       "      <td>Medium</td>\n",
       "    </tr>\n",
       "  </tbody>\n",
       "</table>\n",
       "</div>"
      ],
      "text/plain": [
       "   ID  Age  Gender        BMI Smoking Status  Exercise Frequency  \\\n",
       "0   1   62  Female  22.812775         Former                   4   \n",
       "1   2   65  Female  18.902457         Former                   0   \n",
       "2   3   82  Female  31.286677         Former                   0   \n",
       "3   4   85    Male  23.427027         Former                   2   \n",
       "4   5   85  Female  25.755887         Former                   6   \n",
       "\n",
       "   Cholesterol Level  Blood Pressure  Health Risk Score Health Risk Category  \n",
       "0         119.690569      104.027015          74.966827               Medium  \n",
       "1         151.031562      106.691143          78.305866               Medium  \n",
       "2         167.483621       87.811173          95.605578               Medium  \n",
       "3         124.839669       91.354148          80.921337               Medium  \n",
       "4         192.860153      121.826556          95.150886               Medium  "
      ]
     },
     "execution_count": 12,
     "metadata": {},
     "output_type": "execute_result"
    }
   ],
   "source": [
    "import pandas as pd\n",
    "import matplotlib.pyplot as plt\n",
    "import seaborn as sns\n",
    "import numpy as np\n",
    "from sklearn.model_selection import train_test_split\n",
    "from sklearn.preprocessing import LabelEncoder, MinMaxScaler\n",
    "from sklearn.metrics import accuracy_score, classification_report, confusion_matrix\n",
    "from sklearn.linear_model import LogisticRegression  # For Softmax Regression\n",
    "from sklearn.ensemble import AdaBoostClassifier\n",
    "from sklearn.svm import SVC\n",
    "\n",
    "# Load the dataset\n",
    "data = pd.read_csv('public_health_dataset.csv')\n",
    "\n",
    "# Display the first few rows of the dataset\n",
    "data.head()"
   ]
  },
  {
   "cell_type": "markdown",
   "id": "5ee56747-e135-4aef-92ce-bfbbd5abc802",
   "metadata": {},
   "source": [
    "## Data Preprocessing  \n",
    "Before building the models, we need to preprocess the data. Here's what we'll do:  \n",
    "\n",
    "1. **Drop Unnecessary Columns**: Remove irrelevant columns to streamline the dataset.\n",
    "2. **Encode Categorical Variables**: Transform categorical data (e.g., Gender) into numerical form.\n",
    "3. **Split Data**: Separate features from target variables for classification and regression tasks.\n",
    "4. **Divide into Training and Testing Sets**: Allocate 80% of data for training, 20% for testing.\n",
    "5. **Normalize Features**: Scale features to a range of [0, 1] for consistent model performance."
   ]
  },
  {
   "cell_type": "code",
   "execution_count": 13,
   "id": "77bf2d00-6ed4-40ee-b929-0584bf33377d",
   "metadata": {},
   "outputs": [],
   "source": [
    "# Drop the ID column as it is not useful for modeling\n",
    "data = data.drop(columns=['ID'])\n",
    "\n",
    "# Encode categorical variables (e.g., Gender, Smoking Status) into numerical values\n",
    "label_encoder = LabelEncoder()\n",
    "data['Gender'] = label_encoder.fit_transform(data['Gender'])\n",
    "data['Smoking Status'] = label_encoder.fit_transform(data['Smoking Status'])\n",
    "\n",
    "# Separate features (X) and target variables (y_class for classification)\n",
    "X = data.drop(columns=['Health Risk Category', 'Health Risk Score'])  # Features\n",
    "y_class = data['Health Risk Category']  # Target for classification\n",
    "\n",
    "# Split the data into training and testing sets (80% train, 20% test)\n",
    "X_train, X_test, y_train_class, y_test_class = train_test_split(\n",
    "    X, y_class, test_size=0.2, random_state=42\n",
    ")\n",
    "\n",
    "# Normalize the features using MinMaxScaler to bring all values into the range [0, 1]\n",
    "scaler = MinMaxScaler()\n",
    "X_train_scaled = scaler.fit_transform(X_train)\n",
    "X_test_scaled = scaler.transform(X_test)"
   ]
  },
  {
   "cell_type": "markdown",
   "id": "abcb3181-6fa6-441d-8dc7-77c77df8af00",
   "metadata": {},
   "source": [
    "## **<span style=\"color:green\">A. SoftMax Regression Model</span>**\n",
    "We’ll use LogisticRegression (for multiclass classification; Python will do a softmax regression instead) to predict the Health Risk Category.\n",
    "\n",
    "1. **Model Training**: Initialize and train the SoftMax regression model using scaled training data.\n",
    "2. **Prediction**: Use the trained model to predict class labels on the scaled test data.\n",
    "3. **Performance Evaluation**: Assess model accuracy and generate a detailed classification report.\n"
   ]
  },
  {
   "cell_type": "code",
   "execution_count": 14,
   "id": "0bd530fc-1c3c-4912-a169-87be15f8cbd0",
   "metadata": {},
   "outputs": [
    {
     "name": "stdout",
     "output_type": "stream",
     "text": [
      "Softmax Regression Accuracy: 0.975\n",
      "Classification Report for Softmax Regression:\n",
      "              precision    recall  f1-score   support\n",
      "\n",
      "        High       1.00      0.93      0.97        76\n",
      "      Medium       0.96      1.00      0.98       124\n",
      "\n",
      "    accuracy                           0.97       200\n",
      "   macro avg       0.98      0.97      0.97       200\n",
      "weighted avg       0.98      0.97      0.97       200\n",
      "\n"
     ]
    }
   ],
   "source": [
    "# --- Softmax Regression (Multinomial Logistic Regression) ---\n",
    "softmax_reg = LogisticRegression(solver='lbfgs', max_iter=1000)\n",
    "softmax_reg.fit(X_train_scaled, y_train_class)  # Train the model\n",
    "y_pred_class_softmax = softmax_reg.predict(X_test_scaled)  # Predict on test data\n",
    "\n",
    "# Evaluate Softmax Regression performance\n",
    "accuracy_softmax = accuracy_score(y_test_class, y_pred_class_softmax)\n",
    "print(f\"Softmax Regression Accuracy: {accuracy_softmax}\")\n",
    "\n",
    "# Classification Report for Softmax Regression\n",
    "print(\"Classification Report for Softmax Regression:\")\n",
    "print(classification_report(y_test_class, y_pred_class_softmax))"
   ]
  },
  {
   "cell_type": "markdown",
   "id": "1dd39080-d9b0-4d78-a3c5-61da8b0892c9",
   "metadata": {},
   "source": [
    "### Confusion Matrix for SoftMax Regression\n",
    "\n",
    "Create a heatmap to visualize the confusion matrix for the SoftMax regression model, comparing actual vs. predicted health risk categories."
   ]
  },
  {
   "cell_type": "code",
   "execution_count": 15,
   "id": "963414bc-2007-4990-a687-b774b04f83db",
   "metadata": {},
   "outputs": [
    {
     "data": {
      "image/png": "[encoded data removed]",
      "text/plain": [
       "<Figure size 600x500 with 2 Axes>"
      ]
     },
     "metadata": {},
     "output_type": "display_data"
    }
   ],
   "source": [
    "# --- Visualize Softmax Regression Results ---\n",
    "plt.figure(figsize=(6, 5))\n",
    "sns.heatmap(confusion_matrix(y_test_class, y_pred_class_softmax), annot=True, cmap=\"YlGnBu\", fmt='d')\n",
    "plt.xlabel(\"Predicted Health Risk Category\")\n",
    "plt.ylabel(\"Actual Health Risk Category\")\n",
    "plt.title(\"Softmax Regression\")\n",
    "plt.tight_layout()\n",
    "plt.show()"
   ]
  },
  {
   "cell_type": "markdown",
   "id": "be0feb77-8abc-4171-a382-63ee1f8fa60f",
   "metadata": {},
   "source": [
    "# <span style=\"color:red\">1. SoftMax Regression Hyperparameter Tuning Assignment (5 points)</span>\n",
    "\n",
    "## Objective\n",
    "Explore the impact of various hyperparameters on the performance of the SoftMax Regression model.\n",
    "\n",
    "## Instructions:\n",
    "1. **max_iter**: Adjust the maximum number of iterations for the solver to converge (e.g., `[500, 1000, 2000]`).\n",
    "\n",
    "For each combination of hyperparameters:\n",
    "- Train the SoftMax Regression model.\n",
    "- Evaluate the model using the following metrics:\n",
    "  - Accuracy\n",
    "  - Precision\n",
    "  - Recall\n",
    "  - F1 Score\n",
    "\n",
    "- Provide the outputs of evaluation metrics and the confusion matrix for different combinations of hyperparameters in your report.\n",
    "\n",
    "**At least 2 combinations must be included in your final report.**"
   ]
  },
  {
   "cell_type": "markdown",
   "id": "2b88432a-e4c1-4238-9b62-d13af296259a",
   "metadata": {},
   "source": [
    "## **<span style=\"color:green\">B. AdaBoost Model</span>**\n",
    "We’ll use AdaBoostClassifier to predict the Health Risk Category.\n",
    "\n",
    "1. **Model Training**: Initialize and train the AdaBoost model using scaled training data.\n",
    "2. **Prediction**: Use the trained model to predict class labels on the scaled test data.\n",
    "3. **Performance Evaluation**: Assess model accuracy and generate a detailed classification report.\n"
   ]
  },
  {
   "cell_type": "code",
   "execution_count": 16,
   "id": "160a9fdb-ca6a-46c5-bbcb-93be5749ad76",
   "metadata": {},
   "outputs": [
    {
     "name": "stdout",
     "output_type": "stream",
     "text": [
      "AdaBoost Accuracy: 0.945\n",
      "Classification Report for AdaBoost:\n",
      "              precision    recall  f1-score   support\n",
      "\n",
      "        High       0.97      0.88      0.92        76\n",
      "      Medium       0.93      0.98      0.96       124\n",
      "\n",
      "    accuracy                           0.94       200\n",
      "   macro avg       0.95      0.93      0.94       200\n",
      "weighted avg       0.95      0.94      0.94       200\n",
      "\n"
     ]
    }
   ],
   "source": [
    "# --- AdaBoost Classifier ---\n",
    "adaboost = AdaBoostClassifier(n_estimators=50, random_state=42)\n",
    "adaboost.fit(X_train_scaled, y_train_class)  # Train the model\n",
    "y_pred_class_adaboost = adaboost.predict(X_test_scaled)  # Predict on test data\n",
    "\n",
    "# Evaluate AdaBoost performance\n",
    "accuracy_adaboost = accuracy_score(y_test_class, y_pred_class_adaboost)\n",
    "print(f\"AdaBoost Accuracy: {accuracy_adaboost}\")\n",
    "\n",
    "# Classification Report for AdaBoost\n",
    "print(\"Classification Report for AdaBoost:\")\n",
    "print(classification_report(y_test_class, y_pred_class_adaboost))\n"
   ]
  },
  {
   "cell_type": "markdown",
   "id": "a5ae739c-744d-4a54-a6b5-7e74b9752309",
   "metadata": {},
   "source": [
    "### Confusion Matrix for AdaBoost\n",
    "\n",
    "Create a heatmap to visualize the confusion matrix for the AdaBoost model, comparing actual vs. predicted health risk categories."
   ]
  },
  {
   "cell_type": "code",
   "execution_count": 17,
   "id": "da32c0c4-261c-41d5-ac37-5b5898b80c1f",
   "metadata": {},
   "outputs": [
    {
     "data": {
      "image/png": "[encoded data removed]",
      "text/plain": [
       "<Figure size 600x500 with 2 Axes>"
      ]
     },
     "metadata": {},
     "output_type": "display_data"
    }
   ],
   "source": [
    "# --- Visualize AdaBoost Results ---\n",
    "plt.figure(figsize=(6, 5))\n",
    "sns.heatmap(confusion_matrix(y_test_class, y_pred_class_adaboost), annot=True, cmap=\"YlGnBu\", fmt='d')\n",
    "plt.xlabel(\"Predicted Health Risk Category\")\n",
    "plt.ylabel(\"Actual Health Risk Category\")\n",
    "plt.title(\"AdaBoost\")\n",
    "plt.tight_layout()\n",
    "plt.show()"
   ]
  },
  {
   "attachments": {},
   "cell_type": "markdown",
   "id": "98fca3fa-a72c-4146-b546-251c29704bc8",
   "metadata": {},
   "source": [
    "# <span style=\"color:red\">2. AdaBoost Hyperparameter Tuning Assignment (5 points)</span>\n",
    "\n",
    "## Objective\n",
    "Explore the impact of various hyperparameters on the performance of the AdaBoost model.\n",
    "\n",
    "## Instructions:\n",
    "1. **n_estimators:** Try different numbers of AdaBoost weak learners (e.g., n_estimators=100).\n",
    "2. **learning_rate**: Experiment with different values of the learning rate (e.g., `[0.01, 0.1, 1.0, 10.0]`).\n",
    "3. **max_iter**: Adjust the maximum number of iterations for the solver to converge (e.g., `[500, 1000, 2000]`).\n",
    "\n",
    "For each combination of hyperparameters:\n",
    "- Train the AdaBoost model.\n",
    "- Evaluate the model using the following metrics:\n",
    "  - Accuracy\n",
    "  - Precision\n",
    "  - Recall\n",
    "  - F1 Score\n",
    "\n",
    "- Provide the outputs of evaluation metrics and the confusion matrix for different combinations of hyperparameters in your report.\n",
    "\n",
    "**At least 2 combinations must be included in your final report.**"
   ]
  },
  {
   "cell_type": "markdown",
   "id": "7c8fdedb-3d3c-4865-8667-886917537d9b",
   "metadata": {},
   "source": [
    "## **<span style=\"color:green\">C. Support Vector Machines (SVM) Model</span>**\n",
    "We’ll use SVC to predict the Health Risk Category.\n",
    "\n",
    "1. **Model Training**: Initialize and train the SVM model using scaled training data.\n",
    "2. **Prediction**: Use the trained model to predict class labels on the scaled test data.\n",
    "3. **Performance Evaluation**: Assess model accuracy and generate a detailed classification report.\n"
   ]
  },
  {
   "cell_type": "code",
   "execution_count": 18,
   "id": "aec66623-6551-48ee-bde0-8322b1792f85",
   "metadata": {},
   "outputs": [
    {
     "name": "stdout",
     "output_type": "stream",
     "text": [
      "SVM Accuracy: 0.985\n",
      "Classification Report for SVM:\n",
      "              precision    recall  f1-score   support\n",
      "\n",
      "        High       1.00      0.96      0.98        76\n",
      "      Medium       0.98      1.00      0.99       124\n",
      "\n",
      "    accuracy                           0.98       200\n",
      "   macro avg       0.99      0.98      0.98       200\n",
      "weighted avg       0.99      0.98      0.98       200\n",
      "\n"
     ]
    }
   ],
   "source": [
    "# --- Support Vector Machine (SVM) ---\n",
    "svm = SVC(kernel='linear', C=1.0, random_state=42)  # Linear kernel for simplicity\n",
    "svm.fit(X_train_scaled, y_train_class)  # Train the model\n",
    "y_pred_class_svm = svm.predict(X_test_scaled)  # Predict on test data\n",
    "\n",
    "# Evaluate SVM performance\n",
    "accuracy_svm = accuracy_score(y_test_class, y_pred_class_svm)\n",
    "print(f\"SVM Accuracy: {accuracy_svm}\")\n",
    "\n",
    "# Classification Report for SVM\n",
    "print(\"Classification Report for SVM:\")\n",
    "print(classification_report(y_test_class, y_pred_class_svm))\n"
   ]
  },
  {
   "cell_type": "markdown",
   "id": "d3c35cfa-4afa-4ca5-94ca-4e65c2f87a55",
   "metadata": {},
   "source": [
    "### Confusion Matrix for SVM\n",
    "\n",
    "Create a heatmap to visualize the confusion matrix for the SVM model, comparing actual vs. predicted health risk categories."
   ]
  },
  {
   "cell_type": "code",
   "execution_count": 19,
   "id": "adbc8e2d-8887-4ef1-98c5-3ad90dba0301",
   "metadata": {},
   "outputs": [
    {
     "data": {
      "image/png": "[encoded data removed]",
      "text/plain": [
       "<Figure size 600x500 with 2 Axes>"
      ]
     },
     "metadata": {},
     "output_type": "display_data"
    }
   ],
   "source": [
    "# --- Visualize SVM Results ---\n",
    "plt.figure(figsize=(6, 5))\n",
    "sns.heatmap(confusion_matrix(y_test_class, y_pred_class_svm), annot=True, cmap=\"YlGnBu\", fmt='d')\n",
    "plt.xlabel(\"Predicted Health Risk Category\")\n",
    "plt.ylabel(\"Actual Health Risk Category\")\n",
    "plt.title(\"SVM\")\n",
    "plt.tight_layout()\n",
    "plt.show()"
   ]
  },
  {
   "attachments": {},
   "cell_type": "markdown",
   "id": "ea14e067-e782-42ab-a439-511732f99829",
   "metadata": {},
   "source": [
    "# <span style=\"color:red\">3. SVM Hyperparameter Tuning Assignment (5 points)</span>\n",
    "\n",
    "## Objective\n",
    "Explore the impact of various hyperparameters on the performance of the SVM model.\n",
    "\n",
    "## Instructions:\n",
    "1. **C**: Try different values of C (regularization parameter) to find the optimal balance between bias and variance (e.g., `[0.01, 0.1, 1.0, 10.0]`).\n",
    "2. **max_iter**: Adjust the maximum number of iterations for the solver to converge (e.g., `[500, 1000, 2000]`).\n",
    "\n",
    "For each combination of hyperparameters:\n",
    "- Train the SVM model.\n",
    "- Evaluate the model using the following metrics:\n",
    "  - Accuracy\n",
    "  - Precision\n",
    "  - Recall\n",
    "  - F1 Score\n",
    "\n",
    "- Provide the outputs of evaluation metrics and the confusion matrix for different combinations of hyperparameters in your report.\n",
    "\n",
    "**At least 2 combinations must be included in your final report.**"
   ]
  }
 ],
 "metadata": {
  "kernelspec": {
   "display_name": "Python 3 (ipykernel)",
   "language": "python",
   "name": "python3"
  },
  "language_info": {
   "codemirror_mode": {
    "name": "ipython",
    "version": 3
   },
   "file_extension": ".py",
   "mimetype": "text/x-python",
   "name": "python",
   "nbconvert_exporter": "python",
   "pygments_lexer": "ipython3",
   "version": "3.13.1"
  }
 },
 "nbformat": 4,
 "nbformat_minor": 5
}
